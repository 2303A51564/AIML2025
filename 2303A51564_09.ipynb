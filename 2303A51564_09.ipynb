{
  "nbformat": 4,
  "nbformat_minor": 0,
  "metadata": {
    "colab": {
      "provenance": [],
      "authorship_tag": "ABX9TyNk22+/+2Yu77qteycyez4/",
      "include_colab_link": true
    },
    "kernelspec": {
      "name": "python3",
      "display_name": "Python 3"
    },
    "language_info": {
      "name": "python"
    }
  },
  "cells": [
    {
      "cell_type": "markdown",
      "metadata": {
        "id": "view-in-github",
        "colab_type": "text"
      },
      "source": [
        "<a href=\"https://colab.research.google.com/github/2303A51564/AIML2025/blob/main/2303A51564_09.ipynb\" target=\"_parent\"><img src=\"https://colab.research.google.com/assets/colab-badge.svg\" alt=\"Open In Colab\"/></a>"
      ]
    },
    {
      "cell_type": "markdown",
      "source": [
        "prediction of national poll of health aging\n",
        "Q1.identify the top 5 reasons for health aging?\n",
        "Q2.Name the community which has highest aging issues?\n",
        "Q3identify the gender which has most aging and least aging issues?\n",
        "Q4does age, employmentand mental stress contribution to health aging?\n",
        "Q5.name the category which visits most number of doctors?"
      ],
      "metadata": {
        "id": "NrxqNLkX4tdK"
      }
    },
    {
      "cell_type": "code",
      "source": [
        "import pandas as pd\n",
        "\n",
        "# Load the CSV file\n",
        "file_path = '/content/national+poll+on+healthy+aging+(npha).zip'  # Update with the correct path\n",
        "data = pd.read_csv(file_path)\n",
        "\n",
        "# Correct column names based on the dataset\n",
        "columns_of_interest = ['Phyiscal Health', 'Mental Health', 'Dental Health',\n",
        "                        'Employment', 'Stress Keeps Patient from Sleeping']\n",
        "\n",
        "# Calculate the mean of each factor\n",
        "factor_means = data[columns_of_interest].mean()\n",
        "\n",
        "# Identify the top 5 factors\n",
        "top_5_reasons = factor_means.sort_values(ascending=False).head(5)\n",
        "\n",
        "# Display the results\n",
        "print(\"Top 5 reasons for healthy aging:\")\n",
        "print(top_5_reasons)"
      ],
      "metadata": {
        "colab": {
          "base_uri": "https://localhost:8080/"
        },
        "id": "rrEQduZhHAoi",
        "outputId": "6a24aaea-16af-4b06-85d6-a5872db36bc6"
      },
      "execution_count": 25,
      "outputs": [
        {
          "output_type": "stream",
          "name": "stdout",
          "text": [
            "Top 5 reasons for healthy aging:\n",
            "Dental Health                         3.009804\n",
            "Employment                            2.806723\n",
            "Phyiscal Health                       2.794118\n",
            "Mental Health                         1.988796\n",
            "Stress Keeps Patient from Sleeping    0.247899\n",
            "dtype: float64\n"
          ]
        }
      ]
    },
    {
      "cell_type": "code",
      "source": [
        "# Group by 'Race' (or another community-related column) and calculate the average of health-related columns\n",
        "community_health = data.groupby('Race')[['Phyiscal Health', 'Mental Health', 'Dental Health',\n",
        "                                         'Employment', 'Stress Keeps Patient from Sleeping']].mean()\n",
        "\n",
        "# Calculate a composite score for each community (average of all health factors)\n",
        "community_health['Aging Issues Score'] = community_health.mean(axis=1)\n",
        "\n",
        "# Sort by the 'Aging Issues Score' to identify the community with the highest aging issues\n",
        "highest_aging_community = community_health['Aging Issues Score'].idxmin()  # Community with the lowest score\n",
        "highest_aging_score = community_health['Aging Issues Score'].min()\n",
        "\n",
        "print(f\"The community with the highest aging issues is {highest_aging_community} with a score of {highest_aging_score}.\")"
      ],
      "metadata": {
        "colab": {
          "base_uri": "https://localhost:8080/"
        },
        "id": "ddQjrACWHEjF",
        "outputId": "ed54e087-99f0-4f80-8e05-bc022b3f4f10"
      },
      "execution_count": 26,
      "outputs": [
        {
          "output_type": "stream",
          "name": "stdout",
          "text": [
            "The community with the highest aging issues is 1 with a score of 2.1491349480968855.\n"
          ]
        }
      ]
    },
    {
      "cell_type": "code",
      "source": [
        "# Group by 'Gender' and calculate the average of health-related columns\n",
        "gender_health = data.groupby('Gender')[['Phyiscal Health', 'Mental Health', 'Dental Health',\n",
        "                                         'Employment', 'Stress Keeps Patient from Sleeping']].mean()\n",
        "\n",
        "# Calculate a composite aging issues score for each gender\n",
        "gender_health['Aging Issues Score'] = gender_health.mean(axis=1)\n",
        "\n",
        "# Sort by Aging Issues Score to identify the gender with the most and least aging issues\n",
        "most_aging_gender = gender_health['Aging Issues Score'].idxmin()  # Gender with the lowest score (most aging issues)\n",
        "least_aging_gender = gender_health['Aging Issues Score'].idxmax()  # Gender with the highest score (least aging issues)\n",
        "\n",
        "most_aging_score = gender_health['Aging Issues Score'].min()\n",
        "least_aging_score = gender_health['Aging Issues Score'].max()\n",
        "\n",
        "print(f\"The gender with the most aging issues is {most_aging_gender} with a score of {most_aging_score}.\")\n",
        "print(f\"The gender with the least aging issues is {least_aging_gender} with a score of {least_aging_score}.\")"
      ],
      "metadata": {
        "colab": {
          "base_uri": "https://localhost:8080/"
        },
        "id": "h8XG3L77HIXz",
        "outputId": "8fb034c1-7faf-4ba7-f3ba-4a43b2d0cb1f"
      },
      "execution_count": 27,
      "outputs": [
        {
          "output_type": "stream",
          "name": "stdout",
          "text": [
            "The gender with the most aging issues is 1 with a score of 2.1551401869158875.\n",
            "The gender with the least aging issues is 2 with a score of 2.18117048346056.\n"
          ]
        }
      ]
    },
    {
      "cell_type": "code",
      "source": [
        "# Group by 'Gender' and calculate the average of health-related columns\n",
        "gender_health = data.groupby('Gender')[['Phyiscal Health', 'Mental Health', 'Dental Health',\n",
        "                                         'Employment', 'Stress Keeps Patient from Sleeping']].mean()\n",
        "\n",
        "# Calculate a composite aging issues score for each gender\n",
        "gender_health['Aging Issues Score'] = gender_health.mean(axis=1)\n",
        "\n",
        "# Sort by Aging Issues Score to identify the gender with the most and least aging issues\n",
        "most_aging_gender = gender_health['Aging Issues Score'].idxmin()  # Gender with the lowest score (most aging issues)\n",
        "least_aging_gender = gender_health['Aging Issues Score'].idxmax()  # Gender with the highest score (least aging issues)\n",
        "\n",
        "most_aging_score = gender_health['Aging Issues Score'].min()\n",
        "least_aging_score = gender_health['Aging Issues Score'].max()\n",
        "\n",
        "print(f\"The gender with the most aging issues is {most_aging_gender} with a score of {most_aging_score}.\")\n",
        "print(f\"The gender with the least aging issues is {least_aging_gender} with a score of {least_aging_score}.\")"
      ],
      "metadata": {
        "colab": {
          "base_uri": "https://localhost:8080/"
        },
        "id": "gWmtMgdKHPwO",
        "outputId": "01b669bb-9101-4993-9b24-792cc964aea9"
      },
      "execution_count": 28,
      "outputs": [
        {
          "output_type": "stream",
          "name": "stdout",
          "text": [
            "The gender with the most aging issues is 1 with a score of 2.1551401869158875.\n",
            "The gender with the least aging issues is 2 with a score of 2.18117048346056.\n"
          ]
        }
      ]
    },
    {
      "cell_type": "code",
      "source": [
        "# Group by a relevant category (e.g., 'Gender', 'Race', or 'Age') and calculate the average number of doctor visits\n",
        "doctor_visits_by_category = data.groupby('Gender')['Number of Doctors Visited'].mean()\n",
        "\n",
        "# Find the category with the most number of doctor visits\n",
        "category_with_most_visits = doctor_visits_by_category.idxmax()  # Category with the highest mean visits\n",
        "most_visits = doctor_visits_by_category.max()\n",
        "\n",
        "print(f\"The category with the most number of doctor visits is {category_with_most_visits} with an average of {most_visits} visits.\")"
      ],
      "metadata": {
        "colab": {
          "base_uri": "https://localhost:8080/"
        },
        "id": "B8WVev_yHSKT",
        "outputId": "36c59c4a-ac92-4a8b-ad72-5d185c55fad8"
      },
      "execution_count": 29,
      "outputs": [
        {
          "output_type": "stream",
          "name": "stdout",
          "text": [
            "The category with the most number of doctor visits is 1 with an average of 2.1121495327102804 visits.\n"
          ]
        }
      ]
    }
  ]
}